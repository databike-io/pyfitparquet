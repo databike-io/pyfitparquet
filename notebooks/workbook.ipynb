{
 "cells": [
  {
   "cell_type": "code",
   "execution_count": null,
   "metadata": {},
   "outputs": [],
   "source": [
    "import numpy as np\n",
    "import pandas as pd\n",
    "import sys, os, re, time, shutil, yaml\n",
    "import defusedxml.ElementTree as ET\n",
    "from collections import defaultdict\n",
    "from pyfitparquet import transformer, loadconfig"
   ]
  },
  {
   "cell_type": "code",
   "execution_count": null,
   "metadata": {},
   "outputs": [],
   "source": [
    "pyfitparq = transformer.PyFitParquet()\n",
    "pyfitparq.source_to_parquet('./bogusfile.fit', parquet_dir='.')"
   ]
  },
  {
   "cell_type": "code",
   "execution_count": null,
   "metadata": {},
   "outputs": [],
   "source": [
    "DATA_DIR = '../test/fixtures'\n",
    "PARQUET_DIR = os.path.join(DATA_DIR, 'parquet')\n",
    "\n",
    "# Serializes all files in DATA_DIR to parquet\n",
    "pyfitparq = transformer.PyFitParquet()\n",
    "pyfitparq.data_to_parquet(DATA_DIR)"
   ]
  },
  {
   "cell_type": "code",
   "execution_count": null,
   "metadata": {},
   "outputs": [],
   "source": [
    "parquet_files = []\n",
    "for file in sorted(os.listdir(DATA_DIR)):\n",
    "    matchfit = re.match('(\\w+).(fit|FIT)$', file)\n",
    "    matchtcx = re.match('(\\w+).(tcx|TCX)$', file)            \n",
    "    if matchfit: parquet_files.append(f\"{PARQUET_DIR}/{matchfit.group(1)}.parquet\")            \n",
    "    elif matchtcx: parquet_files.append(f\"{PARQUET_DIR}/{matchtcx.group(1)}.parquet\")\n",
    "#}\n",
    "\n",
    "parquet_files"
   ]
  },
  {
   "cell_type": "code",
   "execution_count": null,
   "metadata": {},
   "outputs": [],
   "source": [
    "for pfile in parquet_files:\n",
    "    df = pd.read_parquet(pfile, engine='pyarrow')\n",
    "    pseries = df[df[\"field_name\"] == \"power\"][\"value_float\"]\n",
    "    if len(pseries) > 0: print(round(pseries.mean()), end=',')\n",
    "        \n",
    "print()\n",
    "for pfile in parquet_files:\n",
    "    df = pd.read_parquet(pfile, engine='pyarrow')\n",
    "    pseries = df[df[\"field_name\"] == \"power\"][\"value_float\"]\n",
    "    if len(pseries) > 0: print(f\"\\'{pfile.split('/')[-1]}\\'\", end=', ')"
   ]
  },
  {
   "cell_type": "code",
   "execution_count": null,
   "metadata": {},
   "outputs": [],
   "source": [
    "for pfile in parquet_files:\n",
    "    df = pd.read_parquet(pfile, engine='pyarrow')\n",
    "    hrseries = df[df[\"field_name\"] == \"heart_rate\"][\"value_float\"]\n",
    "    if len(hrseries) > 0: print((int(hrseries.min()), int(hrseries.max()), round(hrseries.mean())), end=',')\n",
    "        \n",
    "print()\n",
    "for pfile in parquet_files:\n",
    "    df = pd.read_parquet(pfile, engine='pyarrow')\n",
    "    hrseries = df[df[\"field_name\"] == \"heart_rate\"][\"value_float\"]\n",
    "    if len(hrseries) > 0: print(f\"\\'{pfile.split('/')[-1]}\\'\", end=', ')"
   ]
  },
  {
   "cell_type": "code",
   "execution_count": null,
   "metadata": {},
   "outputs": [],
   "source": [
    "for pfile in parquet_files:\n",
    "    df = pd.read_parquet(pfile, engine='pyarrow')\n",
    "    dseries = df[df[\"field_name\"] == \"distance\"][\"value_float\"]\n",
    "    if len(dseries) > 0: print(round(dseries.sum()), end=',')\n",
    "\n",
    "print()\n",
    "for pfile in parquet_files:\n",
    "    df = pd.read_parquet(pfile, engine='pyarrow')\n",
    "    dseries = df[df[\"field_name\"] == \"distance\"][\"value_float\"]\n",
    "    if len(dseries) > 0: print(f\"\\'{pfile.split('/')[-1]}\\'\", end=', ')"
   ]
  },
  {
   "cell_type": "code",
   "execution_count": null,
   "metadata": {},
   "outputs": [],
   "source": [
    "loadconfig.populate_config() \n",
    "loadconfig.config_dir\n",
    "\n",
    "# Input: base install, CONDA_PREFIX set PYFIT_CONFIG_DIR not set, no local files\n",
    "# Expected result: loadconfig.config_dir == site-package dir of CONDA env install"
   ]
  },
  {
   "cell_type": "code",
   "execution_count": null,
   "metadata": {},
   "outputs": [],
   "source": [
    "conda_prefix = None\n",
    "if 'CONDA_PREFIX' in os.environ:\n",
    "    conda_prefix = os.environ['CONDA_PREFIX']\n",
    "    del os.environ['CONDA_PREFIX']\n",
    "\n",
    "try: loadconfig.populate_config()\n",
    "except AssertionError as err: print(f'Caught assert: {err}')\n",
    "print(loadconfig.config_dir)\n",
    "\n",
    "# Input: CONDA_PREFIX not set, PYFIT_CONFIG_DIR not set, no local files\n",
    "# Expected result: assertion error, can't find config_files"
   ]
  },
  {
   "cell_type": "code",
   "execution_count": null,
   "metadata": {},
   "outputs": [],
   "source": [
    "os.environ['PYFIT_CONFIG_DIR'] = os.getcwd()\n",
    "try: loadconfig.populate_config()\n",
    "except AssertionError as err: print(f'Caught assert: {err}')\n",
    "print(loadconfig.config_dir)\n",
    "\n",
    "# Input: CONDA_PREFIX not set, PYFIT_CONFIG_DIR is set, no local files\n",
    "# Expected result: assertion error, can't find config_files"
   ]
  },
  {
   "cell_type": "code",
   "execution_count": null,
   "metadata": {},
   "outputs": [],
   "source": [
    "os.environ['CONDA_PREFIX'] = conda_prefix\n",
    "loadconfig.populate_config() \n",
    "loadconfig.config_dir\n",
    "\n",
    "# Input: CONDA_PREFIX set, PYFIT_CONFIG_DIR set, no local files\n",
    "# Expected result: loadconfig.config_dir == PYFIT_CONFIG_DIR, files copied in"
   ]
  },
  {
   "cell_type": "code",
   "execution_count": null,
   "metadata": {},
   "outputs": [],
   "source": [
    "if 'CONDA_PREFIX' in os.environ:\n",
    "    conda_prefix = os.environ['CONDA_PREFIX']\n",
    "    del os.environ['CONDA_PREFIX']\n",
    "\n",
    "loadconfig.populate_config()\n",
    "loadconfig.config_dir\n",
    "\n",
    "# Input: CONDA_PREFIX not set, PYFIT_CONFIG_DIR set, local files exist\n",
    "# Expected result: loadconfig.config_dir == PYFIT_CONFIG_DIR"
   ]
  }
 ],
 "metadata": {
  "kernelspec": {
   "display_name": "Python 3",
   "language": "python",
   "name": "python3"
  },
  "language_info": {
   "codemirror_mode": {
    "name": "ipython",
    "version": 3
   },
   "file_extension": ".py",
   "mimetype": "text/x-python",
   "name": "python",
   "nbconvert_exporter": "python",
   "pygments_lexer": "ipython3",
   "version": "3.8.0"
  }
 },
 "nbformat": 4,
 "nbformat_minor": 4
}
