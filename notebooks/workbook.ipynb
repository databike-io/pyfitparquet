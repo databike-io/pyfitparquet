{
 "cells": [
  {
   "cell_type": "code",
   "execution_count": 7,
   "metadata": {},
   "outputs": [
    {
     "ename": "ModuleNotFoundError",
     "evalue": "No module named 'loadconfig'",
     "output_type": "error",
     "traceback": [
      "\u001b[0;31m---------------------------------------------------------------------------\u001b[0m",
      "\u001b[0;31mModuleNotFoundError\u001b[0m                       Traceback (most recent call last)",
      "\u001b[0;32m<ipython-input-7-8f5aec55bd73>\u001b[0m in \u001b[0;36m<module>\u001b[0;34m\u001b[0m\n\u001b[1;32m      8\u001b[0m \u001b[0;32mif\u001b[0m \u001b[0;34m'../cpp/pyfit-build'\u001b[0m \u001b[0;32mnot\u001b[0m \u001b[0;32min\u001b[0m \u001b[0msys\u001b[0m\u001b[0;34m.\u001b[0m\u001b[0mpath\u001b[0m\u001b[0;34m:\u001b[0m \u001b[0msys\u001b[0m\u001b[0;34m.\u001b[0m\u001b[0mpath\u001b[0m\u001b[0;34m.\u001b[0m\u001b[0mappend\u001b[0m\u001b[0;34m(\u001b[0m\u001b[0;34m'../cpp/pyfit-build'\u001b[0m\u001b[0;34m)\u001b[0m\u001b[0;34m\u001b[0m\u001b[0;34m\u001b[0m\u001b[0m\n\u001b[1;32m      9\u001b[0m \u001b[0;34m\u001b[0m\u001b[0m\n\u001b[0;32m---> 10\u001b[0;31m \u001b[0;32mfrom\u001b[0m \u001b[0mloadconfig\u001b[0m \u001b[0;32mimport\u001b[0m \u001b[0mCONFIG\u001b[0m\u001b[0;34m\u001b[0m\u001b[0;34m\u001b[0m\u001b[0m\n\u001b[0m\u001b[1;32m     11\u001b[0m \u001b[0;32mfrom\u001b[0m \u001b[0mfittransformer_so\u001b[0m \u001b[0;32mimport\u001b[0m \u001b[0mFitTransformer\u001b[0m\u001b[0;34m\u001b[0m\u001b[0;34m\u001b[0m\u001b[0m\n",
      "\u001b[0;31mModuleNotFoundError\u001b[0m: No module named 'loadconfig'"
     ]
    }
   ],
   "source": [
    "import sys, os, re, time\n",
    "import numpy as np\n",
    "import pandas as pd\n",
    "import defusedxml.ElementTree as ET\n",
    "from collections import defaultdict\n",
    "\n",
    "if '../python' not in sys.path: sys.path.append('../python')\n",
    "if '../cpp/pyfit-build' not in sys.path: sys.path.append('../cpp/pyfit-build')\n",
    "\n",
    "from loadconfig import CONFIG    \n",
    "from fittransformer_so import FitTransformer"
   ]
  },
  {
   "cell_type": "code",
   "execution_count": null,
   "metadata": {},
   "outputs": [],
   "source": []
  },
  {
   "cell_type": "code",
   "execution_count": 1,
   "metadata": {},
   "outputs": [
    {
     "data": {
      "text/plain": [
       "['cmake',\n",
       " '-Spyfitparquet/cpp',\n",
       " '-Bpyfit-build',\n",
       " '-DCMAKE_PREFIX_PATH=/Users/ajdonich/opt/miniconda3/envs/pyfitparquet-dev',\n",
       " '-DCMAKE_INSTALL_PREFIX=/Users/ajdonich/opt/miniconda3/envs/pyfitparquet-dev/lib/python3.8/site-packages']"
      ]
     },
     "execution_count": 1,
     "metadata": {},
     "output_type": "execute_result"
    }
   ],
   "source": [
    "conda_prefix = '/Users/ajdonich/opt/miniconda3/envs/pyfitparquet-dev'\n",
    "install_prefix = '/Users/ajdonich/opt/miniconda3/envs/pyfitparquet-dev/lib/python3.8/site-packages'\n",
    "\n",
    "['cmake', '-Spyfitparquet/cpp', '-Bpyfit-build',\n",
    " f'-DCMAKE_PREFIX_PATH={conda_prefix}',\n",
    " f'-DCMAKE_INSTALL_PREFIX={install_prefix}']"
   ]
  },
  {
   "cell_type": "code",
   "execution_count": 7,
   "metadata": {},
   "outputs": [
    {
     "name": "stdout",
     "output_type": "stream",
     "text": [
      "lib/python3.8/site-packages\n"
     ]
    },
    {
     "data": {
      "text/plain": [
       "'/Users/ajdonich/opt/miniconda3/envs/pyfitparquet-dev/lib/python3.8/site-packages'"
      ]
     },
     "execution_count": 7,
     "metadata": {},
     "output_type": "execute_result"
    }
   ],
   "source": [
    "import os\n",
    "\n",
    "def find_pyinstall_dir(conda_prefix, idir='site-packages'):\n",
    "    for root, dirs, files in os.walk(conda_prefix):\n",
    "        if idir in dirs: \n",
    "#             print(f'{root} - {idir}')\n",
    "            print(os.path.relpath(os.path.join(root, idir), conda_prefix))\n",
    "            return os.path.join(root, idir)\n",
    "        \n",
    "    return None\n",
    "\n",
    "find_pyinstall_dir(conda_prefix)"
   ]
  },
  {
   "cell_type": "code",
   "execution_count": 13,
   "metadata": {},
   "outputs": [
    {
     "name": "stdout",
     "output_type": "stream",
     "text": [
      "/Users/ajdonich/opt/miniconda3/envs/pyfitparquet-dev/lib/python3.8/site-packages\n",
      "{'stdlib': '/Users/ajdonich/opt/miniconda3/envs/pyfitparquet-dev/lib/python3.8', 'platstdlib': '/Users/ajdonich/opt/miniconda3/envs/pyfitparquet-dev/lib/python3.8', 'purelib': '/Users/ajdonich/opt/miniconda3/envs/pyfitparquet-dev/lib/python3.8/site-packages', 'platlib': '/Users/ajdonich/opt/miniconda3/envs/pyfitparquet-dev/lib/python3.8/site-packages', 'include': '/Users/ajdonich/opt/miniconda3/envs/pyfitparquet-dev/include/python3.8', 'platinclude': '/Users/ajdonich/opt/miniconda3/envs/pyfitparquet-dev/include/python3.8', 'scripts': '/Users/ajdonich/opt/miniconda3/envs/pyfitparquet-dev/bin', 'data': '/Users/ajdonich/opt/miniconda3/envs/pyfitparquet-dev'}\n"
     ]
    }
   ],
   "source": [
    "# from subprocess import call\n",
    "# call([sys.executable, 'scriptname.py'],\n",
    "#      cwd=os.path.join(dir, 'packagename'))\n",
    "# import sys\n",
    "# os.path.abspath(os.path.join(sys.executable, '..', '..'))\n",
    "\n",
    "import sysconfig\n",
    "print(sysconfig.get_paths()[\"purelib\"])\n",
    "print(sysconfig.get_paths())"
   ]
  },
  {
   "cell_type": "code",
   "execution_count": null,
   "metadata": {},
   "outputs": [],
   "source": [
    "timestamps = [pd.to_datetime(t).tz_localize(None) for t in \n",
    "              ['2021-01-13T20:05:05Z', '2021-01-13T20:05:06Z', \n",
    "               '2021-01-13T20:05:09Z']]\n",
    "\n",
    "df = pd.DataFrame({'one': [-1, np.nan, 2.5],\n",
    "                   'two': ['foo', 'bar', None],\n",
    "                   'three': [True, False, True],\n",
    "                   'four': timestamps},\n",
    "                   index=list('abc'))"
   ]
  },
  {
   "cell_type": "code",
   "execution_count": null,
   "metadata": {},
   "outputs": [],
   "source": [
    "display(df)\n",
    "# df.to_parquet(path='example.parquet', engine='pyarrow')\n",
    "print(df.dtypes)\n"
   ]
  },
  {
   "cell_type": "raw",
   "metadata": {},
   "source": [
    "<?xml version=\"1.0\"?>\n",
    "<data>\n",
    "    <country name=\"Liechtenstein\">\n",
    "        <rank updated=\"yes\">2</rank>\n",
    "        <year>2008</year>\n",
    "        <gdppc>141100</gdppc>\n",
    "        <neighbor name=\"Austria\" direction=\"E\"/>\n",
    "        <neighbor name=\"Switzerland\" direction=\"W\"/>\n",
    "    </country>\n",
    "    <country name=\"Singapore\">\n",
    "        <rank updated=\"yes\">5</rank>\n",
    "        <year>2011</year>\n",
    "        <gdppc>59900</gdppc>\n",
    "        <neighbor name=\"Malaysia\" direction=\"N\"/>\n",
    "    </country>\n",
    "    <country name=\"Panama\">\n",
    "        <rank updated=\"yes\">69</rank>\n",
    "        <year>2011</year>\n",
    "        <gdppc>13600</gdppc>\n",
    "        <neighbor name=\"Costa Rica\" direction=\"W\"/>\n",
    "        <neighbor name=\"Colombia\" direction=\"E\"/>\n",
    "    </country>\n",
    "</data>"
   ]
  },
  {
   "cell_type": "code",
   "execution_count": 47,
   "metadata": {},
   "outputs": [
    {
     "data": {
      "text/plain": [
       "'average_heart_rate'"
      ]
     },
     "execution_count": 47,
     "metadata": {},
     "output_type": "execute_result"
    }
   ],
   "source": [
    "tags = ['something', 'AverageHeartRateBpm']\n",
    "\n",
    "icaps = [i for i, ltr in enumerate(tags[-1]) if ltr.isupper()] + [len(tags[-1])]\n",
    "parts = [tags[-1][icaps[j-1]:icaps[j]].lower() for j in range(1, len(icaps))]\n",
    "if parts[-1] in ['bpm', 'meters']: units = parts[-1]; parts.pop()\n",
    "'_'.join(parts)"
   ]
  },
  {
   "cell_type": "code",
   "execution_count": 34,
   "metadata": {},
   "outputs": [],
   "source": [
    "def striptag(clarkname):\n",
    "    # Tcx xnode.tag generally includes xmlns, thus appears as: '{xmlns}tagname'\n",
    "    matchobj = re.match(r'^(\\{(?P<xmlns>\\w+:.+)\\})?(?P<tagname>[:\\w]+)', clarkname)\n",
    "    assert matchobj, f\"Unable to appropriately strip element tag: '{clarkname}'\"\n",
    "    return matchobj.group('xmlns'), matchobj.group('tagname')"
   ]
  },
  {
   "cell_type": "code",
   "execution_count": 35,
   "metadata": {},
   "outputs": [
    {
     "data": {
      "text/plain": [
       "(None, 'xsd:dateTime')"
      ]
     },
     "execution_count": 35,
     "metadata": {},
     "output_type": "execute_result"
    }
   ],
   "source": [
    "striptag('xsd:dateTime')"
   ]
  },
  {
   "cell_type": "code",
   "execution_count": 29,
   "metadata": {},
   "outputs": [
    {
     "name": "stdout",
     "output_type": "stream",
     "text": [
      "{'http://www.garmin.com/xmlschemas/UserProfile/v2', 'http://www.garmin.com/xmlschemas/ActivityExtension/v2', 'http://www.garmin.com/xmlschemas/TrainingCenterDatabase/v2', 'http://www.garmin.com/xmlschemas/ActivityGoals/v1', 'http://www.w3.org/2001/XMLSchema-instance'}\n",
      "https://www8.garmin.com/xmlschemas/UserProfilev2.xsd\n",
      "https://www8.garmin.com/xmlschemas/ActivityExtensionv2.xsd\n",
      "https://www8.garmin.com/xmlschemas/TrainingCenterDatabasev2.xsd\n",
      "https://www8.garmin.com/xmlschemas/ActivityGoalsv1.xsd\n"
     ]
    }
   ],
   "source": [
    "a = \"\"\"45_min_HIIT_Hills_Ride_with_Sam_Yo.tcx:<TrainingCenterDatabase \n",
    "xmlns:ns2=\"http://www.garmin.com/xmlschemas/UserProfile/v2\" \n",
    "xmlns:ns3=\"http://www.garmin.com/xmlschemas/ActivityExtension/v2\" \n",
    "xmlns:ns5=\"http://www.garmin.com/xmlschemas/ActivityGoals/v1\" \n",
    "xmlns:xsi=\"http://www.w3.org/2001/XMLSchema-instance\" \n",
    "xmlns=\"http://www.garmin.com/xmlschemas/TrainingCenterDatabase/v2\" \n",
    "xsi:schemaLocation=\"http://www.garmin.com/xmlschemas/TrainingCenterDatabase/v2\" \n",
    "http://www.garmin.com/xmlschemas/TrainingCenterDatabasev2.xsd\">\n",
    "\n",
    "45_min_Power_Zone_Ride_with_Matt_Wilpers.tcx:<TrainingCenterDatabase \n",
    "xmlns=\"http://www.garmin.com/xmlschemas/TrainingCenterDatabase/v2\" \n",
    "xmlns:xsi=\"http://www.w3.org/2001/XMLSchema-instance\" \n",
    "xmlns:ns2=\"http://www.garmin.com/xmlschemas/UserProfile/v2\" \n",
    "xmlns:ns3=\"http://www.garmin.com/xmlschemas/ActivityExtension/v2\" \n",
    "xmlns:ns5=\"http://www.garmin.com/xmlschemas/ActivityGoals/v1\" \n",
    "xsi:schemaLocation=\"http://www.garmin.com/xmlschemas/TrainingCenterDatabase/v2\" \n",
    "http://www.garmin.com/xmlschemas/TrainingCenterDatabasev2.xsd\">\n",
    "\n",
    "60_min_Power_Zone_Endurance_Ride_with_Christine_D_Ercole.tcx:<TrainingCenterDatabase \n",
    "xmlns=\"http://www.garmin.com/xmlschemas/TrainingCenterDatabase/v2\" \n",
    "xmlns:xsi=\"http://www.w3.org/2001/XMLSchema-instance\" \n",
    "xmlns:ns2=\"http://www.garmin.com/xmlschemas/UserProfile/v2\" \n",
    "xmlns:ns3=\"http://www.garmin.com/xmlschemas/ActivityExtension/v2\" \n",
    "xmlns:ns5=\"http://www.garmin.com/xmlschemas/ActivityGoals/v1\" \n",
    "xsi:schemaLocation=\"http://www.garmin.com/xmlschemas/TrainingCenterDatabase/v2\" \n",
    "http://www.garmin.com/xmlschemas/TrainingCenterDatabasev2.xsd\">\n",
    "\n",
    "TeamScream.tcx:<TrainingCenterDatabase \n",
    "xsi:noNamespaceSchemaLocation=\"http://www.garmin.com/xmlschemas/TrainingCenterDatabase/v2\" \n",
    "http://www.garmin.com/xmlschemas/TrainingCenterDatabasev2.xsd\" \n",
    "xmlns:ns5=\"http://www.garmin.com/xmlschemas/ActivityGoals/v1\" \n",
    "xmlns:ns3=\"http://www.garmin.com/xmlschemas/ActivityExtension/v2\" \n",
    "xmlns:ns2=\"http://www.garmin.com/xmlschemas/UserProfile/v2\" \n",
    "xmlns=\"http://www.garmin.com/xmlschemas/TrainingCenterDatabase/v2\" \n",
    "xmlns:xsi=\"http://www.w3.org/2001/XMLSchema-instance\">\"\"\"\n",
    "\n",
    "xnamespaces = set()\n",
    "for line in a.split('\\n'):\n",
    "    if re.match(r'.+=.+', line):\n",
    "        matchobj = re.match(r'.*\\\"(.+)[\\n\\\"]', line)\n",
    "        xnamespaces.add(matchobj.group(1))\n",
    "\n",
    "print(xnamespaces)\n",
    "for ns in xnamespaces:\n",
    "    matchobj = re.match(r'http://www.garmin.com/xmlschemas/(\\w+)/(\\w+)', ns)\n",
    "    if matchobj: \n",
    "        uri = f'https://www8.garmin.com/xmlschemas/{matchobj.group(1)}{matchobj.group(2)}.xsd'\n",
    "        print(uri)\n",
    "#         !wget $uri\n",
    "    \n",
    "    #http://www.garmin.com/xmlschemas/TrainingCenterDatabase/v2\n",
    "    #https://www8.garmin.com/xmlschemas/TrainingCenterDatabasev2.xsd\n",
    "    \n"
   ]
  },
  {
   "cell_type": "code",
   "execution_count": 6,
   "metadata": {},
   "outputs": [
    {
     "data": {
      "text/plain": [
       "{'http://www.garmin.com/xmlschemas/ActivityExtension/v2',\n",
       " 'http://www.garmin.com/xmlschemas/TrainingCenterDatabase/v2'}"
      ]
     },
     "execution_count": 6,
     "metadata": {},
     "output_type": "execute_result"
    }
   ],
   "source": [
    "xnamespaces = set()\n",
    "data_dir = '../../data'\n",
    "\n",
    "for file in os.listdir(data_dir):\n",
    "#{\n",
    "    matchtcx = re.match('(\\w+).(tcx|TCX)$', file)            \n",
    "    if matchtcx: \n",
    "        initial = time.time()\n",
    "        tcxfile = f\"{data_dir}/{file}\"\n",
    "        \n",
    "        with open(tcxfile) as f_handle:\n",
    "            xmlstring = f_handle.read().lstrip()\n",
    "            for xnode in ET.fromstring(xmlstring).iter():\n",
    "                xmlns, tagname = striptag(xnode.tag)\n",
    "                xnamespaces.add(xmlns)\n",
    "#}\n",
    "\n",
    "xnamespaces"
   ]
  },
  {
   "cell_type": "code",
   "execution_count": 5,
   "metadata": {},
   "outputs": [],
   "source": [
    "def recurse_tree(xiter,  pad=''):\n",
    "#{\n",
    "    xnode = next(xiter)\n",
    "    tagname = xnode.tag\n",
    "    print(pad + tagname + \" \" + str(xnode.attrib))\n",
    "\n",
    "    for _ in range(len(xnode)):\n",
    "        recurse_tree(xiter, f'  {pad}')\n",
    "#}\n",
    "\n",
    "# Deal w/Clark notation\n",
    "def striptag(clarkname):\n",
    "    # Tcx xnode.tag generally includes xmlns, thus appearing as: '{xmlns}tagname'\n",
    "    matchobj = re.match(r'^(\\{(?P<xmlns>\\w+:.+)\\})?(?P<tagname>\\w+)', clarkname)\n",
    "    assert matchobj, f\"Unable to appropriately strip element tag: '{clarkname}'\"\n",
    "    return matchobj.group('xmlns'), matchobj.group('tagname')\n",
    "\n",
    "def analyze_tree(xiter, compoundtags=None, tagstack=None):\n",
    "#{\n",
    "    #if tagmap is None: tagmap = set()\n",
    "    #if attribmap is None: attribmap = defaultdict(set)\n",
    "    \n",
    "    if tagstack is None: tagstack = []\n",
    "    if compoundtags is None: compoundtags = set()\n",
    "\n",
    "    xnode = next(xiter)\n",
    "    xmlns, tagname = striptag(xnode.tag)\n",
    "    \n",
    "    tagstack.append(tagname)\n",
    "    comptag = '-'.join(tagstack)\n",
    "    for k in xnode.attrib.keys():\n",
    "        xmlns, kname = striptag(k)\n",
    "        compoundtags.add(f'{comptag}-{kname}')\n",
    "        \n",
    "    if xnode.text and xnode.text.rstrip(): compoundtags.add(comptag)\n",
    "        \n",
    "    for _ in range(len(xnode)):\n",
    "        analyze_tree(xiter, compoundtags, tagstack)\n",
    "    \n",
    "    tagstack.pop()\n",
    "#}"
   ]
  },
  {
   "cell_type": "code",
   "execution_count": null,
   "metadata": {},
   "outputs": [],
   "source": [
    "# xiter = ET.parse('example.xml').iter()\n",
    "xiter = ET.parse('../../data/TeamScream.tcx').iter()\n",
    "\n",
    "compoundtags = set()\n",
    "analyze_tree(xiter, compoundtags)\n",
    "compoundtags"
   ]
  },
  {
   "cell_type": "code",
   "execution_count": null,
   "metadata": {},
   "outputs": [],
   "source": [
    "CONFIG"
   ]
  },
  {
   "cell_type": "code",
   "execution_count": null,
   "metadata": {},
   "outputs": [],
   "source": [
    "parquet_maker = PyFitParquet()\n",
    "#parquet_maker.data_to_parquet('../../data/')\n",
    "df = parquet_maker.tcx_to_parquet('../../data/TeamScream.tcx', './TeamScream.parquet')\n",
    "display(df)\n",
    "display(df[:60])"
   ]
  },
  {
   "cell_type": "code",
   "execution_count": null,
   "metadata": {},
   "outputs": [],
   "source": [
    "pfile = './TeamScream.parquet'\n",
    "\n",
    "pdframe = pd.read_parquet(pfile, engine='pyarrow')\n",
    "print(pfile + \":\")\n",
    "display(pdframe)"
   ]
  },
  {
   "cell_type": "code",
   "execution_count": null,
   "metadata": {},
   "outputs": [],
   "source": [
    "#     def append_position(self, xiter, nlen):\n",
    "#         for _ in range(nlen):\n",
    "#             fnode = next(xiter)\n",
    "#             schema, tagname = self.striptag(fnode)\n",
    "#             if tagname == \"LatitudeDegrees\": \n",
    "#             elif tagname == \"LongitudeDegrees\": \n",
    "\n",
    "#         <xsd:element name=\"LatitudeDegrees\" type=\"DegreesLatitude_t\"/>\n",
    "#         <xsd:element name=\"LongitudeDegrees\" type=\"DegreesLongitude_t\"/>\n",
    "        \n",
    "#     def insert_altitude\n",
    "#     def insert_distance\n",
    "#     def insert_heart_rate\n",
    "#     def insert_cadence\n",
    "#     def insert_sensor_state\n",
    "#     def insert_extensions\n",
    "\n",
    "def append_trackpoint(self, xiter, nlen):\n",
    "    #{\n",
    "        nfields = 0\n",
    "        for ti in range(nlen):\n",
    "            fnode = next(xiter)\n",
    "            xmlns, tagname = striptag(fnode)\n",
    "            if tagname == \"Time\":\n",
    "                self.timestamp = pd.to_datetime(fnode.text).tz_localize(None)\n",
    "                if self.excludeflags[\"exclude_timestamp_values\"]: continue\n",
    "                append_mesg_fields('Trackpoint'):\n",
    "                append_field_fields()\n",
    "                nfields += 1\n",
    "                \n",
    "                \n",
    "#             elif tagname == \"Position\":\n",
    "#                 for pi in range(len(fnode)):\n",
    "#                     fnode = next(xiter)\n",
    "#                     xmlns, tagname = self.striptag(fnode)\n",
    "#                     if tagname == \"LatitudeDegrees\": \n",
    "#                     elif tagname == \"LongitudeDegrees\": \n",
    "                \n",
    "#             elif tagname == \"AltitudeMeters\": \n",
    "#             elif tagname == \"DistanceMeters\":\n",
    "#             elif tagname == \"HeartRateBpm\":\n",
    "#             elif tagname == \"Cadence\":\n",
    "#             elif tagname == \"SensorState\":\n",
    "#             elif tagname == \"Extensions\":\n",
    "                \n",
    "            print(\"  \" + tagname + \" : \" + fnode.text.rstrip())\n",
    "    #}\n",
    "    \n",
    "\n",
    "\n",
    "# try: \n",
    "# #{\n",
    "#     xiter = ET.parse(tcx_fname).iter()\n",
    "\n",
    "#     # TODO: find/get Creator tag first to init \"file_id\" fields\n",
    "\n",
    "#     debugcounter = 0\n",
    "#     while True:\n",
    "#         xnode = next(xiter)\n",
    "#         schema, tagname = striptag(xnode)\n",
    "\n",
    "#         print(tagname)\n",
    "#         if tagname == 'Trackpoint':\n",
    "#             append_trackpoint(xiter, len(xnode))\n",
    "#         elif tagname == 'Lap':\n",
    "#             append_lap(xiter, len(xnode))\n",
    "\n",
    "#         # Tmp loop breaker\n",
    "#         if debugcounter > 200: break\n",
    "#         debugcounter += 1\n",
    "# #}\n",
    "# except StopIteration: pass"
   ]
  },
  {
   "cell_type": "code",
   "execution_count": null,
   "metadata": {},
   "outputs": [],
   "source": [
    "tree = ET.parse('example.xml')\n",
    "for elem in tree.iter(): print(elem)\n",
    "print()"
   ]
  },
  {
   "cell_type": "code",
   "execution_count": null,
   "metadata": {},
   "outputs": [],
   "source": [
    "counter = 0\n",
    "\n",
    "\n",
    "tree = ET.parse('../../data/TeamScream.tcx')\n",
    "# tree = ET.parse('example.xml')\n",
    "xiter = tree.iter()\n",
    "\n",
    "try: \n",
    "#{\n",
    "    while True:\n",
    "        xnode = next(xiter)\n",
    "        schema, tagname = parsetag(xnode)\n",
    "        print(f'{tagname} : {len(xnode)}')\n",
    "        \n",
    "#         if not schema: print(tagname)\n",
    "#         else:  print(schema + \" : \" + tagname)\n",
    "\n",
    "        print(tagname)\n",
    "        if tagname == 'Trackpoint':\n",
    "            insert_trackpoint(xiter, len(xnode))\n",
    "            \n",
    "        # Tmp loop breaker\n",
    "        if counter > 200: break\n",
    "        counter += 1\n",
    "#}\n",
    "except StopIteration: pass\n",
    "    \n",
    "#     tag = re.sub(r'^\\{.+\\}', '', elem.tag)\n",
    "#     text = elem.text.rstrip() if elem.text else ''\n",
    "#     print(f\"Tag: {tag}, Value: {text}, Attrib: {elem.attrib}\")\n"
   ]
  },
  {
   "cell_type": "code",
   "execution_count": null,
   "metadata": {},
   "outputs": [],
   "source": [
    "tree = ET.parse('../../data/TeamScream.tcx')\n",
    "# tree = ET.parse('../../data/45_min_HIIT_Hills_Ride_with_Sam_Yo.tcx')\n",
    "# enode = tree.iter()\n",
    "# print(enode)\n",
    "# for elem in tree.iter():\n",
    "#     print elem\n",
    "\n",
    "counter = 0\n",
    "for elem in tree.iter():\n",
    "    if counter > 125: break\n",
    "    tag = re.sub(r'^\\{.+\\}', '', elem.tag)\n",
    "    text = elem.text.rstrip() if elem.text else ''\n",
    "    print(f\"Tag: {tag}, Value: {text}, Attrib: {elem.attrib}\")\n",
    "    counter += 1\n",
    "\n",
    "\n"
   ]
  },
  {
   "cell_type": "code",
   "execution_count": null,
   "metadata": {},
   "outputs": [],
   "source": [
    "# for child in root:\n",
    "#     print(child.tag, child.attrib)"
   ]
  }
 ],
 "metadata": {
  "kernelspec": {
   "display_name": "Python 3",
   "language": "python",
   "name": "python3"
  },
  "language_info": {
   "codemirror_mode": {
    "name": "ipython",
    "version": 3
   },
   "file_extension": ".py",
   "mimetype": "text/x-python",
   "name": "python",
   "nbconvert_exporter": "python",
   "pygments_lexer": "ipython3",
   "version": "3.8.0"
  }
 },
 "nbformat": 4,
 "nbformat_minor": 4
}
