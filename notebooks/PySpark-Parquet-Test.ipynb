{
 "cells": [
  {
   "cell_type": "code",
   "execution_count": 1,
   "metadata": {},
   "outputs": [],
   "source": [
    "from pyspark.sql import SparkSession, functions as F\n",
    "spark = SparkSession.builder.getOrCreate()"
   ]
  },
  {
   "cell_type": "code",
   "execution_count": 2,
   "metadata": {},
   "outputs": [
    {
     "name": "stdout",
     "output_type": "stream",
     "text": [
      "+-------+--------+\n",
      "|product|count(1)|\n",
      "+-------+--------+\n",
      "|     31|  373231|\n",
      "|      3|    2712|\n",
      "|   1231|   19648|\n",
      "+-------+--------+\n",
      "\n"
     ]
    }
   ],
   "source": [
    "df = spark.read.parquet(\"../test/data/parquet\")\n",
    "df.groupBy(\"product\").agg(F.count(\"*\")).show()"
   ]
  },
  {
   "cell_type": "code",
   "execution_count": 5,
   "metadata": {},
   "outputs": [
    {
     "name": "stdout",
     "output_type": "stream",
     "text": [
      "+------------+-------+---------+----------+---------+----------+----------+------------+-------------+-----+\n",
      "|manufacturer|product|timestamp|mesg_index|mesg_name|field_type|field_name|value_string|value_numeric|units|\n",
      "+------------+-------+---------+----------+---------+----------+----------+------------+-------------+-----+\n",
      "|          32|     31|967740491|        20|   record|   numeric|     power|    0.000000|          0.0|watts|\n",
      "|          32|     31|967740492|        20|   record|   numeric|     power|    0.000000|          0.0|watts|\n",
      "|          32|     31|967740493|        20|   record|   numeric|     power|    0.000000|          0.0|watts|\n",
      "|          32|     31|967740494|        20|   record|   numeric|     power|    0.000000|          0.0|watts|\n",
      "|          32|     31|967740495|        20|   record|   numeric|     power|    0.000000|          0.0|watts|\n",
      "|          32|     31|967740791|        20|   record|   numeric|     power|    0.000000|          0.0|watts|\n",
      "|          32|     31|967740792|        20|   record|   numeric|     power|    0.000000|          0.0|watts|\n",
      "|          32|     31|967740793|        20|   record|   numeric|     power|    0.000000|          0.0|watts|\n",
      "|          32|     31|967740794|        20|   record|   numeric|     power|   51.000000|         51.0|watts|\n",
      "|          32|     31|967740795|        20|   record|   numeric|     power|  150.000000|        150.0|watts|\n",
      "|          32|     31|967740796|        20|   record|   numeric|     power|  202.000000|        202.0|watts|\n",
      "|          32|     31|967740797|        20|   record|   numeric|     power|  224.000000|        224.0|watts|\n",
      "|          32|     31|967740798|        20|   record|   numeric|     power|  251.000000|        251.0|watts|\n",
      "|          32|     31|967740799|        20|   record|   numeric|     power|  246.000000|        246.0|watts|\n",
      "|          32|     31|967740800|        20|   record|   numeric|     power|  111.000000|        111.0|watts|\n",
      "|          32|     31|967740801|        20|   record|   numeric|     power|  116.000000|        116.0|watts|\n",
      "|          32|     31|967740802|        20|   record|   numeric|     power|  102.000000|        102.0|watts|\n",
      "|          32|     31|967740803|        20|   record|   numeric|     power|  124.000000|        124.0|watts|\n",
      "|          32|     31|967740804|        20|   record|   numeric|     power|  105.000000|        105.0|watts|\n",
      "|          32|     31|967740805|        20|   record|   numeric|     power|   81.000000|         81.0|watts|\n",
      "+------------+-------+---------+----------+---------+----------+----------+------------+-------------+-----+\n",
      "only showing top 20 rows\n",
      "\n"
     ]
    }
   ],
   "source": [
    "df.where(F.col(\"field_name\") == \"power\").show()"
   ]
  },
  {
   "cell_type": "code",
   "execution_count": null,
   "metadata": {},
   "outputs": [],
   "source": []
  }
 ],
 "metadata": {
  "kernelspec": {
   "display_name": "Python 3",
   "language": "python",
   "name": "python3"
  },
  "language_info": {
   "codemirror_mode": {
    "name": "ipython",
    "version": 3
   },
   "file_extension": ".py",
   "mimetype": "text/x-python",
   "name": "python",
   "nbconvert_exporter": "python",
   "pygments_lexer": "ipython3",
   "version": "3.8.0"
  }
 },
 "nbformat": 4,
 "nbformat_minor": 4
}
